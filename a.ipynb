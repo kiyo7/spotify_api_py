{
 "cells": [
  {
   "cell_type": "code",
   "execution_count": 17,
   "metadata": {},
   "outputs": [
    {
     "name": "stdout",
     "output_type": "stream",
     "text": [
      "Defaulting to user installation because normal site-packages is not writeable\n",
      "Requirement already satisfied: spotipy in /Users/kiyokawa/Library/Python/3.8/lib/python/site-packages (2.19.0)\n",
      "Requirement already satisfied: six>=1.15.0 in /Applications/Xcode.app/Contents/Developer/Library/Frameworks/Python3.framework/Versions/3.8/lib/python3.8/site-packages (from spotipy) (1.15.0)\n",
      "Requirement already satisfied: urllib3>=1.26.0 in /Users/kiyokawa/Library/Python/3.8/lib/python/site-packages (from spotipy) (1.26.7)\n",
      "Requirement already satisfied: requests>=2.25.0 in /Users/kiyokawa/Library/Python/3.8/lib/python/site-packages (from spotipy) (2.26.0)\n",
      "Requirement already satisfied: charset-normalizer~=2.0.0; python_version >= \"3\" in /Users/kiyokawa/Library/Python/3.8/lib/python/site-packages (from requests>=2.25.0->spotipy) (2.0.7)\n",
      "Requirement already satisfied: certifi>=2017.4.17 in /Users/kiyokawa/Library/Python/3.8/lib/python/site-packages (from requests>=2.25.0->spotipy) (2021.10.8)\n",
      "Requirement already satisfied: idna<4,>=2.5; python_version >= \"3\" in /Users/kiyokawa/Library/Python/3.8/lib/python/site-packages (from requests>=2.25.0->spotipy) (3.3)\n",
      "\u001b[33mWARNING: You are using pip version 20.2.3; however, version 21.3.1 is available.\n",
      "You should consider upgrading via the '/Applications/Xcode.app/Contents/Developer/usr/bin/python3 -m pip install --upgrade pip' command.\u001b[0m\n",
      "(0, u'\\u30a4\\u30f3\\u30d5\\u30a7\\u30eb\\u30ce')\n",
      "(1, u'\\u30a4\\u30f3\\u30d5\\u30a7\\u30eb\\u30ce')\n",
      "(2, u'\\u79c1')\n",
      "(3, u'\\u30a4\\u30f3\\u30d5\\u30a7\\u30eb\\u30ce')\n",
      "(4, u'\\u70b9\\u63cf\\u306e\\u5504')\n",
      "(5, u'\\u9752\\u3068\\u590f')\n",
      "(6, u'\\u6625\\u6101')\n",
      "(7, u'WanteD! WanteD!')\n",
      "(8, u'\\u50d5\\u306e\\u3053\\u3068')\n",
      "(9, u'\\u30ed\\u30de\\u30f3\\u30c1\\u30b7\\u30ba\\u30e0')\n",
      "(10, u'CHEERS')\n",
      "(11, u'Attitude')\n",
      "(12, u'\\u9752\\u3068\\u590f')\n",
      "(13, u'Speaking')\n",
      "(14, u'Love me, Love you')\n",
      "(15, u\"lovin'\")\n",
      "(16, u'Viking')\n",
      "(17, u'Folktale')\n",
      "(18, u'\\u30a2\\u30a6\\u30d5\\u30d8\\u30fc\\u30d9\\u30f3')\n",
      "(19, u'PRESENT - English ver.')\n",
      "(20, u'\\u30a2\\u30fb\\u30d7\\u30ea\\u30aa\\u30ea')\n",
      "(21, u'\\u30ed\\u30de\\u30f3\\u30c1\\u30b7\\u30ba\\u30e0')\n",
      "(22, u'ProPose')\n",
      "(23, u'\\u5618\\u3058\\u3083\\u306a\\u3044\\u3088')\n",
      "(24, u'Hug')\n",
      "(25, u'\\u306f\\u3058\\u307e\\u308a')\n",
      "(26, u'Theater')\n",
      "(27, u'\\u50d5\\u306e\\u3053\\u3068')\n"
     ]
    }
   ],
   "source": [
    "!pip3 install spotipy\n",
    "\n",
    "import spotipy\n",
    "from spotipy.oauth2 import SpotifyClientCredentials\n",
    "\n",
    "sp = spotipy.Spotify(auth_manager=SpotifyClientCredentials(client_id=\"507ed691961042318fb9fc7e98b2453e\",\n",
    "                                                           client_secret=\"eaeddb8142bd4767ad6794b3f2d59185\"))\n",
    "\n",
    "results = sp.search(q='Mrs.GreenApple', limit=50)\n",
    "for idx, track in enumerate(results['tracks']['items']):\n",
    "    print(idx, track['name'])"
   ]
  }
 ],
 "metadata": {
  "interpreter": {
   "hash": "aee8b7b246df8f9039afb4144a1f6fd8d2ca17a180786b69acc140d282b71a49"
  },
  "kernelspec": {
   "display_name": "Python 3.9.7 64-bit",
   "language": "python",
   "name": "python3"
  },
  "language_info": {
   "codemirror_mode": {
    "name": "ipython",
    "version": 2
   },
   "file_extension": ".py",
   "mimetype": "text/x-python",
   "name": "python",
   "nbconvert_exporter": "python",
   "pygments_lexer": "ipython2",
   "version": "2.7.16"
  },
  "orig_nbformat": 4
 },
 "nbformat": 4,
 "nbformat_minor": 2
}
